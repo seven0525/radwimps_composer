{
 "cells": [
  {
   "cell_type": "code",
   "execution_count": 1,
   "metadata": {},
   "outputs": [],
   "source": [
    "from janome.tokenizer import Tokenizer"
   ]
  },
  {
   "cell_type": "code",
   "execution_count": 3,
   "metadata": {},
   "outputs": [],
   "source": [
    "# テキストファイルを読み込む\n",
    "sjis = open('rad_lyrics.txt', 'rb').read()\n",
    "text = sjis.decode('utf_8')"
   ]
  },
  {
   "cell_type": "code",
   "execution_count": 4,
   "metadata": {},
   "outputs": [],
   "source": [
    "# テキストを形態素解析読み込みます\n",
    "\n",
    "t = Tokenizer()\n",
    "words = t.tokenize(text)"
   ]
  },
  {
   "cell_type": "code",
   "execution_count": 5,
   "metadata": {},
   "outputs": [],
   "source": [
    "import json"
   ]
  },
  {
   "cell_type": "code",
   "execution_count": 6,
   "metadata": {},
   "outputs": [],
   "source": [
    "# 辞書を生成します\n",
    "def make_dic(words):\n",
    "    tmp = [\"@\"]\n",
    "    dic = {}\n",
    "    for i in words:\n",
    "        word = i.surface\n",
    "        if word == \"\" or word == \"\\r\\n\" or word == \"\\n\": continue\n",
    "        tmp.append(word)\n",
    "        if len(tmp) < 3: continue\n",
    "        if len(tmp) > 3: tmp = tmp[1:]\n",
    "        set_word3(dic, tmp)\n",
    "        if word == \"。\":\n",
    "            tmp = [\"@\"]\n",
    "            continue\n",
    "    return dic\n",
    "\n",
    "# 三要素のリストを辞書として登録しています\n",
    "def set_word3(dic, s3):\n",
    "    w1, w2, w3 = s3\n",
    "    if not w1 in dic: dic[w1] = {}\n",
    "    if not w2 in dic[w1]: dic[w1][w2] = {}\n",
    "    if not w3 in dic[w1][w2]: dic[w1][w2][w3] = 0\n",
    "    dic[w1][w2][w3] += 1\n",
    "\n",
    "dic = make_dic(words)\n",
    "json.dump(dic, open(\"markov-blog.json\", \"w\", encoding=\"utf-8\"))"
   ]
  },
  {
   "cell_type": "code",
   "execution_count": 95,
   "metadata": {},
   "outputs": [
    {
     "name": "stdout",
     "output_type": "stream",
     "text": [
      "一人のためにも 凡人も 見事なまでの自殺志願者を　君を知っていたりした『今』 がすり切れるくらいに生きてたんだ精一 目一杯 僕の体を運んできたのは僕に譲ってくれたのにもうここにないもの　それで全てです\n",
      "\n",
      "I saidThen everyday, everyday, everyday will make you bring upon.You'll never notice but you're clogging your mind\n",
      "\n",
      "Now don't you're always going to come back for more\n",
      "\n",
      "今開いていたりしたその未来仕方ないから頑張るけど もういい どうにでもだって君は地球を丸くした『今』 がすり切れるくらいに生きてた父の言葉が　今日も僕も同様に 僕は見つかったんだちっちゃな箱に詰め込まれ 運ばれるしかないんだって僕に　神様は僕にも塗れる人それぞれなけなしの正しさを振り絞っていると\n",
      "\n",
      "聖者の声が響きだす そこに夏はいない　お前がおかずならば届く気がしたその未来仕方ないから頑張るけど そう言ったんだ\n",
      "\n",
      "あぁこの季節(とき)が 抱えた不思議 それ以外はない驚くべき効果を発揮します　新しい自分に出会えますただ中毒性がございます　用法・用量をお守りください\n",
      "\n",
      "こんなキャッチフレーズを書こうやっとこさ君のいない　嘘ではボロが出ると黒く染まり色を仕舞いこんだされど黒に身を預けるほどの懐などなくて全部　君は 明日を夢見た人間信者に \n",
      "もう昨日を探したら　あなたが　成功した時にでも溶けるようになって僕を胴上げしてんだあの日僕らを置き去りにするから負けじと彼らをなおざりにしてやったするとどうだ寂しがったこの想いの向かう先をなにも言わず僕は　繋いでて\n",
      "\n",
      "All of the mystics and existents will be an holiday\n",
      "\n",
      "OPQRSTUVW double you're always going to come back for more\n",
      "\n",
      "今　転がってる叶えたい夢も　知らなくて全部　君は　放課後「また明日」と「ありがとう」\n",
      "\n",
      "いいんですよ　たった一つといつか　交換こしよう\n",
      "\n",
      "いつもは尖ってたその手にいれたオモチャも　部屋の隅っこもくるまった布団の中の好きなの「もう少しだけ　くっついていようよ\n",
      "\n",
      "ほら　僕の名前を　残しているよ\n",
      "\n",
      "この地球は今日眠らせて 腐らせるくらいならばいいんだ\n",
      "\n",
      "嬉しくて泣くのは僕には 何も知らないから取っておいたけどふとした時に一人と　死んでくこととそれくらいです他にも染まらぬように\n",
      "\n",
      "君を知った\n",
      "\n",
      "本当に伝えたい想いだけは　僕は思わず横で笑ったよ生まれた時に目を向けると血走った眼の前の現在がもうすでに 思い出色して頂きたいこりゃ買わない手はない　いない\n",
      "\n",
      "湿る空が乾く色を仕舞いこんだされど黒に身を預けるほどの懐などなくてこのままでヘタもとらず落ちた僕を眺め 綺麗と言ったホントどっちが多いか怪しくなってもSaturday Sunday 笑っていいんだ僕を追い越したんだ後にも染まらぬよう　せめて地球は今日眠らせて 腐らせるくらいならばこの声だから\n",
      "\n",
      "「ねぇもういいかい?」「もうしつこいよ」「ついに諦めた、もう万々歳」「ついに諦めた、もう万々歳」「じゃあやってみてよと\n",
      "\n",
      "聖者も僕を賞味できる期限は今日も僕も描き出してみるよ　あなたといる意味を　君を見つけ出した時 そう言った\n",
      "\n",
      "嬉しくて　歌を歌ってるわけです\n",
      "\n",
      "I saidThen everyday, everyday will be an holiday\n",
      "\n",
      "OPQRSTUVW double you ever say it's a shame it's OK it's a shame if you remember this word I saidThen everyday will be an holiday\n",
      "\n",
      "OPQRSTUVW double you bring upon.You'll never notice but you bring upon.You'll never notice but you're always going to come back for more\n",
      "\n",
      "今言えること　それはテレパシーさぁ今ならば。\n"
     ]
    }
   ],
   "source": [
    "import json\n",
    "dic = open(\"markov-blog.json\" , \"r\")\n",
    "dic = json.load(dic)\n",
    "\n",
    "tweets_list = []\n",
    "import random\n",
    "def word_choice(sel):\n",
    "    keys = sel.keys()\n",
    "    ran = random.choice(list(keys))\n",
    "    return ran\n",
    "\n",
    "def make_sentence(dic):\n",
    "    ret = []\n",
    "    if not \"@\" in dic: return \"no dic\"\n",
    "    top = dic[\"@\"]\n",
    "    w1 = word_choice(top)\n",
    "    w2 = word_choice(top[w1])\n",
    "    ret.append(w1)\n",
    "    ret.append(w2)\n",
    "    while True:\n",
    "        w3 = word_choice(dic[w1][w2])\n",
    "        ret.append(w3)\n",
    "        if w3 == \"。\": break\n",
    "        w1, w2 = w2, w3\n",
    "    tweets_list.append(ret)\n",
    "    return \"\".join(ret)\n",
    "    \n",
    "for i in range(1):\n",
    "    s = make_sentence(dic)\n",
    "    tweets_list.append(s)\n",
    "    print(s)"
   ]
  },
  {
   "cell_type": "code",
   "execution_count": null,
   "metadata": {},
   "outputs": [],
   "source": []
  },
  {
   "cell_type": "code",
   "execution_count": null,
   "metadata": {},
   "outputs": [],
   "source": []
  }
 ],
 "metadata": {
  "kernelspec": {
   "display_name": "Python 3",
   "language": "python",
   "name": "python3"
  },
  "language_info": {
   "codemirror_mode": {
    "name": "ipython",
    "version": 3
   },
   "file_extension": ".py",
   "mimetype": "text/x-python",
   "name": "python",
   "nbconvert_exporter": "python",
   "pygments_lexer": "ipython3",
   "version": "3.6.4"
  }
 },
 "nbformat": 4,
 "nbformat_minor": 2
}
